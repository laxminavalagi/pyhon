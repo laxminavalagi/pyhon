{
 "cells": [
  {
   "cell_type": "code",
   "execution_count": 1,
   "id": "ccf00081",
   "metadata": {},
   "outputs": [
    {
     "name": "stdout",
     "output_type": "stream",
     "text": [
      "sum= 35\n"
     ]
    }
   ],
   "source": [
    "a=5\n",
    "b=6\n",
    "c=7\n",
    "d=8\n",
    "e=9\n",
    "print(\"sum=\",a+b+c+d+e)"
   ]
  },
  {
   "cell_type": "code",
   "execution_count": 3,
   "id": "dd01df60",
   "metadata": {},
   "outputs": [
    {
     "name": "stdout",
     "output_type": "stream",
     "text": [
      "60.0\n"
     ]
    }
   ],
   "source": [
    "p=10\n",
    "t=20\n",
    "r=30\n",
    "simple=(p*t*r)/100\n",
    "print(simple)"
   ]
  },
  {
   "cell_type": "code",
   "execution_count": 5,
   "id": "ada19f7c",
   "metadata": {},
   "outputs": [
    {
     "name": "stdout",
     "output_type": "stream",
     "text": [
      "200\n"
     ]
    }
   ],
   "source": [
    "length=10\n",
    "base=20\n",
    "rectangle=length*base\n",
    "print(rectangle)"
   ]
  },
  {
   "cell_type": "code",
   "execution_count": 6,
   "id": "6eeab8f9",
   "metadata": {},
   "outputs": [
    {
     "name": "stdout",
     "output_type": "stream",
     "text": [
      "100.0\n"
     ]
    }
   ],
   "source": [
    "base=10\n",
    "height=20\n",
    "triangle=1/2*(base*height)\n",
    "print(triangle)"
   ]
  },
  {
   "cell_type": "code",
   "execution_count": 8,
   "id": "29ccc0c8",
   "metadata": {},
   "outputs": [
    {
     "name": "stdout",
     "output_type": "stream",
     "text": [
      "square of 5 is 25\n"
     ]
    }
   ],
   "source": [
    "a=5\n",
    "square=a*a\n",
    "print(\"square of 5 is\",square)"
   ]
  },
  {
   "cell_type": "code",
   "execution_count": 9,
   "id": "c790ef7e",
   "metadata": {},
   "outputs": [
    {
     "name": "stdout",
     "output_type": "stream",
     "text": [
      "cube of 6 is 125\n"
     ]
    }
   ],
   "source": [
    "b=6\n",
    "cube=a*a*a\n",
    "print(\"cube of 6 is\",cube)"
   ]
  },
  {
   "cell_type": "code",
   "execution_count": null,
   "id": "9620dde5",
   "metadata": {},
   "outputs": [],
   "source": [
    "a=int(input(\"enter a age\"))\n",
    "if 18<17:\n",
    "    print(\"he is not eligble for vote\")\n",
    "else:\n",
    "    print(\"he is eligble for vote\")"
   ]
  },
  {
   "cell_type": "code",
   "execution_count": null,
   "id": "94695d6f",
   "metadata": {},
   "outputs": [],
   "source": [
    "a=int(input(\"enter a age\"))\n",
    "if 18<10\n",
    "    print(\"he is not eligble for vote\")\n",
    "else:\n",
    "    print(\"he is eligble for vote\")"
   ]
  },
  {
   "cell_type": "code",
   "execution_count": null,
   "id": "ccc775d1",
   "metadata": {},
   "outputs": [],
   "source": []
  },
  {
   "cell_type": "code",
   "execution_count": null,
   "id": "6d9c1f31",
   "metadata": {},
   "outputs": [],
   "source": []
  },
  {
   "cell_type": "code",
   "execution_count": null,
   "id": "115c24a0",
   "metadata": {},
   "outputs": [],
   "source": []
  }
 ],
 "metadata": {
  "kernelspec": {
   "display_name": "Python 3 (ipykernel)",
   "language": "python",
   "name": "python3"
  },
  "language_info": {
   "codemirror_mode": {
    "name": "ipython",
    "version": 3
   },
   "file_extension": ".py",
   "mimetype": "text/x-python",
   "name": "python",
   "nbconvert_exporter": "python",
   "pygments_lexer": "ipython3",
   "version": "3.9.12"
  }
 },
 "nbformat": 4,
 "nbformat_minor": 5
}
